{
 "cells": [
  {
   "cell_type": "markdown",
   "id": "72536068",
   "metadata": {
    "slideshow": {
     "slide_type": "-"
    }
   },
   "source": [
    "### Import Libraries"
   ]
  },
  {
   "cell_type": "code",
   "execution_count": 2,
   "id": "9a7e70cf",
   "metadata": {
    "ExecuteTime": {
     "end_time": "2021-12-11T08:17:56.489839Z",
     "start_time": "2021-12-11T08:17:56.042500Z"
    },
    "slideshow": {
     "slide_type": "-"
    }
   },
   "outputs": [],
   "source": [
    "import pickle\n",
    "from sklearn.metrics import accuracy_score, classification_report, confusion_matrix\n",
    "from sklearn.preprocessing import MinMaxScaler\n",
    "from sklearn.neighbors import KNeighborsClassifier\n",
    "from sklearn.tree import DecisionTreeClassifier\n",
    "from sklearn.model_selection import train_test_split, cross_val_score\n",
    "\n",
    "import pandas as pd\n",
    "import datetime"
   ]
  },
  {
   "cell_type": "code",
   "execution_count": 1,
   "id": "d2e45d76",
   "metadata": {},
   "outputs": [
    {
     "ename": "NameError",
     "evalue": "name 'np' is not defined",
     "output_type": "error",
     "traceback": [
      "\u001b[0;31m---------------------------------------------------------------------------\u001b[0m",
      "\u001b[0;31mNameError\u001b[0m                                 Traceback (most recent call last)",
      "Cell \u001b[0;32mIn[1], line 1\u001b[0m\n\u001b[0;32m----> 1\u001b[0m \u001b[38;5;28mprint\u001b[39m(\u001b[43mnp\u001b[49m\u001b[38;5;241m.\u001b[39m__version__)\n",
      "\u001b[0;31mNameError\u001b[0m: name 'np' is not defined"
     ]
    }
   ],
   "source": [
    "print(np.__version__)"
   ]
  },
  {
   "cell_type": "markdown",
   "id": "0ef6cfd4",
   "metadata": {
    "slideshow": {
     "slide_type": "-"
    }
   },
   "source": [
    "### Code\n",
    "\n",
    "The following functions are used for creating binary classifier<br/>\n",
    "1. **transform_data** - Transforms Data using a MinMaxScaler, fits the data and saves the scaler\n",
    "2. **train_model** - Performs Test/Train Split, trains a KNN Classifier. Returns Model and metrics.\n",
    "3. **scale_data** - Scale the given input as per the given scaler."
   ]
  },
  {
   "cell_type": "code",
   "execution_count": 3,
   "id": "b2b08dea",
   "metadata": {
    "ExecuteTime": {
     "end_time": "2021-12-11T08:17:59.366855Z",
     "start_time": "2021-12-11T08:17:59.361497Z"
    },
    "slideshow": {
     "slide_type": "-"
    }
   },
   "outputs": [],
   "source": [
    "def transform_data(data, scaler_name):\n",
    "    X = data.drop(columns=[\"label\"], axis=1)\n",
    "    y = data[[\"label\"]]\n",
    "\n",
    "    scaler = None\n",
    "\n",
    "    try:\n",
    "        with open(\"./\"+scaler_name+\".pkl\", \"rb\") as fp:\n",
    "            scaler = pickle.load(fp)\n",
    "    except FileNotFoundError as e:\n",
    "        print(\"Scaler Not Found! Will create a new one.\")\n",
    "        scaler = MinMaxScaler()\n",
    "\n",
    "    scaler.partial_fit(X)\n",
    "    X = scaler.transform(X)\n",
    "\n",
    "    scale = {\n",
    "        \"min\": scaler.data_min_,\n",
    "        \"max\": scaler.data_max_\n",
    "    }\n",
    "\n",
    "    with open(\"./\"+scaler_name+\".pkl\", \"wb\") as fp:\n",
    "        print('Saving Scaler...', scale)\n",
    "        pickle.dump(scaler, fp)\n",
    "\n",
    "    return X, y[\"label\"]"
   ]
  },
  {
   "cell_type": "code",
   "execution_count": 4,
   "id": "dff32503",
   "metadata": {
    "ExecuteTime": {
     "end_time": "2021-12-11T08:18:01.953060Z",
     "start_time": "2021-12-11T08:18:01.948563Z"
    },
    "slideshow": {
     "slide_type": "-"
    }
   },
   "outputs": [],
   "source": [
    "def train_model(X, y, model):\n",
    "    X_train, X_test, y_train, y_test = train_test_split(\n",
    "        X, y, test_size=0.2, random_state=1)\n",
    "    model.fit(X_train, y_train)\n",
    "    y_pred = model.predict(X_test)\n",
    "    metrics = {\n",
    "        \"accuracy\": accuracy_score(y_test, y_pred),\n",
    "        \"cv_score\": cross_val_score(model, X, y, cv=10),\n",
    "        \"class_report\": classification_report(y_test, y_pred, output_dict=True),\n",
    "        \"confusion_matrix\": confusion_matrix(y_test, y_pred)\n",
    "    }\n",
    "    return metrics"
   ]
  },
  {
   "cell_type": "code",
   "execution_count": 5,
   "id": "fb3b204e",
   "metadata": {
    "ExecuteTime": {
     "end_time": "2021-12-11T08:18:04.406083Z",
     "start_time": "2021-12-11T08:18:04.399084Z"
    },
    "slideshow": {
     "slide_type": "subslide"
    }
   },
   "outputs": [],
   "source": [
    "def scale_data(scaler_name,datadf):\n",
    "    scaler = None\n",
    "    with open(\"./\"+scaler_name+\".pkl\", \"rb\") as fp:\n",
    "        scaler = pickle.load(fp)\n",
    "    data = scaler.transform(datadf)\n",
    "    return data"
   ]
  },
  {
   "cell_type": "markdown",
   "id": "1417bf1d",
   "metadata": {
    "ExecuteTime": {
     "end_time": "2021-11-29T13:14:38.025911Z",
     "start_time": "2021-11-29T13:14:38.018473Z"
    }
   },
   "source": [
    "---"
   ]
  },
  {
   "cell_type": "markdown",
   "id": "15827eb8",
   "metadata": {},
   "source": [
    "### Training and Tracking  - KNN\n",
    "\n",
    "Train model on individual data and then test the model on testdata"
   ]
  },
  {
   "cell_type": "code",
   "execution_count": 6,
   "id": "39c65f8e",
   "metadata": {
    "ExecuteTime": {
     "end_time": "2021-12-11T08:18:07.400451Z",
     "start_time": "2021-12-11T08:18:06.940182Z"
    }
   },
   "outputs": [
    {
     "name": "stderr",
     "output_type": "stream",
     "text": [
      "2024/10/23 20:16:27 INFO mlflow.tracking.fluent: Experiment with name 'Red-Blue-Experiment' does not exist. Creating a new experiment.\n"
     ]
    },
    {
     "data": {
      "text/plain": [
       "<Experiment: artifact_location='mlflow-artifacts:/774240891014511625', creation_time=1729707387233, experiment_id='774240891014511625', last_update_time=1729707387233, lifecycle_stage='active', name='Red-Blue-Experiment', tags={}>"
      ]
     },
     "execution_count": 6,
     "metadata": {},
     "output_type": "execute_result"
    }
   ],
   "source": [
    "import mlflow\n",
    "from mlflow.models.signature import infer_signature\n",
    "mlflow.set_tracking_uri(\"http://127.0.0.1:5000/\")\n",
    "mlflow.set_experiment(\"Red-Blue-Experiment\")"
   ]
  },
  {
   "cell_type": "code",
   "execution_count": 7,
   "id": "f4886f8f",
   "metadata": {
    "ExecuteTime": {
     "end_time": "2021-12-11T08:18:11.257249Z",
     "start_time": "2021-12-11T08:18:11.251166Z"
    }
   },
   "outputs": [
    {
     "name": "stdout",
     "output_type": "stream",
     "text": [
      "['./data/sample1.csv', './data/sample2.csv', './data/sample3.csv', './data/sample4.csv', './data/sample5.csv', './data/sample6.csv', './data/sample7.csv', './data/sample8.csv', './data/sample9.csv', './data/sample10.csv']\n"
     ]
    }
   ],
   "source": [
    "datas = [\"./data/sample\"+str(i)+\".csv\" for i in range(1,11)]\n",
    "print(datas)"
   ]
  },
  {
   "cell_type": "code",
   "execution_count": 8,
   "id": "654ae97e",
   "metadata": {
    "ExecuteTime": {
     "end_time": "2021-12-11T08:18:13.969421Z",
     "start_time": "2021-12-11T08:18:13.966206Z"
    }
   },
   "outputs": [],
   "source": [
    "model = KNeighborsClassifier(n_neighbors=7,leaf_size=40)\n",
    "params = {\"neighbours\":7,\"leaf_size\":40}"
   ]
  },
  {
   "cell_type": "code",
   "execution_count": 9,
   "id": "f9b7fbdd",
   "metadata": {
    "ExecuteTime": {
     "end_time": "2021-12-11T08:18:33.847594Z",
     "start_time": "2021-12-11T08:18:18.197263Z"
    }
   },
   "outputs": [
    {
     "name": "stderr",
     "output_type": "stream",
     "text": [
      "/home/mkn/mlflow-adventures2/venv/lib/python3.10/site-packages/sklearn/base.py:376: InconsistentVersionWarning: Trying to unpickle estimator MinMaxScaler from version 0.24.1 when using version 1.5.2. This might lead to breaking code or invalid results. Use at your own risk. For more info please refer to:\n",
      "https://scikit-learn.org/stable/model_persistence.html#security-maintainability-limitations\n",
      "  warnings.warn(\n",
      "/home/mkn/mlflow-adventures2/venv/lib/python3.10/site-packages/sklearn/base.py:486: UserWarning: X has feature names, but MinMaxScaler was fitted without feature names\n",
      "  warnings.warn(\n",
      "/home/mkn/mlflow-adventures2/venv/lib/python3.10/site-packages/sklearn/base.py:486: UserWarning: X has feature names, but MinMaxScaler was fitted without feature names\n",
      "  warnings.warn(\n"
     ]
    },
    {
     "name": "stdout",
     "output_type": "stream",
     "text": [
      "Training on:  ./data/sample1.csv\n",
      "Saving Scaler... {'min': array([-16.26008744, -14.70411995]), 'max': array([13.06496848, 15.24576771])}\n"
     ]
    },
    {
     "name": "stderr",
     "output_type": "stream",
     "text": [
      "2024/10/23 20:16:28 INFO mlflow.tracking._tracking_service.client: 🏃 View run knn-test-run-2024-10-23T20:16:27.262208 at: http://127.0.0.1:5000/#/experiments/774240891014511625/runs/6b871b9703274e6abaf8be6612b2f89d.\n",
      "2024/10/23 20:16:28 INFO mlflow.tracking._tracking_service.client: 🧪 View experiment at: http://127.0.0.1:5000/#/experiments/774240891014511625.\n",
      "/home/mkn/mlflow-adventures2/venv/lib/python3.10/site-packages/sklearn/base.py:486: UserWarning: X has feature names, but MinMaxScaler was fitted without feature names\n",
      "  warnings.warn(\n",
      "/home/mkn/mlflow-adventures2/venv/lib/python3.10/site-packages/sklearn/base.py:486: UserWarning: X has feature names, but MinMaxScaler was fitted without feature names\n",
      "  warnings.warn(\n"
     ]
    },
    {
     "name": "stdout",
     "output_type": "stream",
     "text": [
      "Training on:  ./data/sample2.csv\n",
      "Saving Scaler... {'min': array([-16.26008744, -14.70411995]), 'max': array([13.06496848, 15.24576771])}\n"
     ]
    },
    {
     "name": "stderr",
     "output_type": "stream",
     "text": [
      "2024/10/23 20:16:29 INFO mlflow.tracking._tracking_service.client: 🏃 View run knn-test-run-2024-10-23T20:16:28.367909 at: http://127.0.0.1:5000/#/experiments/774240891014511625/runs/4f5371d0228d48a4a58d947769fe6402.\n",
      "2024/10/23 20:16:29 INFO mlflow.tracking._tracking_service.client: 🧪 View experiment at: http://127.0.0.1:5000/#/experiments/774240891014511625.\n",
      "/home/mkn/mlflow-adventures2/venv/lib/python3.10/site-packages/sklearn/base.py:486: UserWarning: X has feature names, but MinMaxScaler was fitted without feature names\n",
      "  warnings.warn(\n",
      "/home/mkn/mlflow-adventures2/venv/lib/python3.10/site-packages/sklearn/base.py:486: UserWarning: X has feature names, but MinMaxScaler was fitted without feature names\n",
      "  warnings.warn(\n"
     ]
    },
    {
     "name": "stdout",
     "output_type": "stream",
     "text": [
      "Training on:  ./data/sample3.csv\n",
      "Saving Scaler... {'min': array([-16.26008744, -14.70411995]), 'max': array([13.06496848, 15.24576771])}\n"
     ]
    },
    {
     "name": "stderr",
     "output_type": "stream",
     "text": [
      "2024/10/23 20:16:29 INFO mlflow.tracking._tracking_service.client: 🏃 View run knn-test-run-2024-10-23T20:16:29.148514 at: http://127.0.0.1:5000/#/experiments/774240891014511625/runs/c500f46437494830816edf98cc0f74d8.\n",
      "2024/10/23 20:16:29 INFO mlflow.tracking._tracking_service.client: 🧪 View experiment at: http://127.0.0.1:5000/#/experiments/774240891014511625.\n",
      "/home/mkn/mlflow-adventures2/venv/lib/python3.10/site-packages/sklearn/base.py:486: UserWarning: X has feature names, but MinMaxScaler was fitted without feature names\n",
      "  warnings.warn(\n",
      "/home/mkn/mlflow-adventures2/venv/lib/python3.10/site-packages/sklearn/base.py:486: UserWarning: X has feature names, but MinMaxScaler was fitted without feature names\n",
      "  warnings.warn(\n"
     ]
    },
    {
     "name": "stdout",
     "output_type": "stream",
     "text": [
      "Training on:  ./data/sample4.csv\n",
      "Saving Scaler... {'min': array([-16.26008744, -14.70411995]), 'max': array([13.06496848, 15.24576771])}\n"
     ]
    },
    {
     "name": "stderr",
     "output_type": "stream",
     "text": [
      "2024/10/23 20:16:30 INFO mlflow.tracking._tracking_service.client: 🏃 View run knn-test-run-2024-10-23T20:16:29.927748 at: http://127.0.0.1:5000/#/experiments/774240891014511625/runs/48b48b56557344fc822fbb65619557a0.\n",
      "2024/10/23 20:16:30 INFO mlflow.tracking._tracking_service.client: 🧪 View experiment at: http://127.0.0.1:5000/#/experiments/774240891014511625.\n",
      "/home/mkn/mlflow-adventures2/venv/lib/python3.10/site-packages/sklearn/base.py:486: UserWarning: X has feature names, but MinMaxScaler was fitted without feature names\n",
      "  warnings.warn(\n",
      "/home/mkn/mlflow-adventures2/venv/lib/python3.10/site-packages/sklearn/base.py:486: UserWarning: X has feature names, but MinMaxScaler was fitted without feature names\n",
      "  warnings.warn(\n"
     ]
    },
    {
     "name": "stdout",
     "output_type": "stream",
     "text": [
      "Training on:  ./data/sample5.csv\n",
      "Saving Scaler... {'min': array([-16.26008744, -14.70411995]), 'max': array([13.06496848, 15.24576771])}\n"
     ]
    },
    {
     "name": "stderr",
     "output_type": "stream",
     "text": [
      "2024/10/23 20:16:31 INFO mlflow.tracking._tracking_service.client: 🏃 View run knn-test-run-2024-10-23T20:16:30.713438 at: http://127.0.0.1:5000/#/experiments/774240891014511625/runs/e5b0074eafec4488afc29623c23d6855.\n",
      "2024/10/23 20:16:31 INFO mlflow.tracking._tracking_service.client: 🧪 View experiment at: http://127.0.0.1:5000/#/experiments/774240891014511625.\n",
      "/home/mkn/mlflow-adventures2/venv/lib/python3.10/site-packages/sklearn/base.py:486: UserWarning: X has feature names, but MinMaxScaler was fitted without feature names\n",
      "  warnings.warn(\n",
      "/home/mkn/mlflow-adventures2/venv/lib/python3.10/site-packages/sklearn/base.py:486: UserWarning: X has feature names, but MinMaxScaler was fitted without feature names\n",
      "  warnings.warn(\n"
     ]
    },
    {
     "name": "stdout",
     "output_type": "stream",
     "text": [
      "Training on:  ./data/sample6.csv\n",
      "Saving Scaler... {'min': array([-16.26008744, -14.70411995]), 'max': array([13.06496848, 15.24576771])}\n"
     ]
    },
    {
     "name": "stderr",
     "output_type": "stream",
     "text": [
      "2024/10/23 20:16:32 INFO mlflow.tracking._tracking_service.client: 🏃 View run knn-test-run-2024-10-23T20:16:31.488127 at: http://127.0.0.1:5000/#/experiments/774240891014511625/runs/9a3ed3fe687b45a3bf4d425925a67517.\n",
      "2024/10/23 20:16:32 INFO mlflow.tracking._tracking_service.client: 🧪 View experiment at: http://127.0.0.1:5000/#/experiments/774240891014511625.\n",
      "/home/mkn/mlflow-adventures2/venv/lib/python3.10/site-packages/sklearn/base.py:486: UserWarning: X has feature names, but MinMaxScaler was fitted without feature names\n",
      "  warnings.warn(\n",
      "/home/mkn/mlflow-adventures2/venv/lib/python3.10/site-packages/sklearn/base.py:486: UserWarning: X has feature names, but MinMaxScaler was fitted without feature names\n",
      "  warnings.warn(\n"
     ]
    },
    {
     "name": "stdout",
     "output_type": "stream",
     "text": [
      "Training on:  ./data/sample7.csv\n",
      "Saving Scaler... {'min': array([-16.26008744, -14.70411995]), 'max': array([13.06496848, 15.24576771])}\n"
     ]
    },
    {
     "name": "stderr",
     "output_type": "stream",
     "text": [
      "2024/10/23 20:16:33 INFO mlflow.tracking._tracking_service.client: 🏃 View run knn-test-run-2024-10-23T20:16:32.255574 at: http://127.0.0.1:5000/#/experiments/774240891014511625/runs/8ca979c61f85405bac517073848c59f9.\n",
      "2024/10/23 20:16:33 INFO mlflow.tracking._tracking_service.client: 🧪 View experiment at: http://127.0.0.1:5000/#/experiments/774240891014511625.\n",
      "/home/mkn/mlflow-adventures2/venv/lib/python3.10/site-packages/sklearn/base.py:486: UserWarning: X has feature names, but MinMaxScaler was fitted without feature names\n",
      "  warnings.warn(\n",
      "/home/mkn/mlflow-adventures2/venv/lib/python3.10/site-packages/sklearn/base.py:486: UserWarning: X has feature names, but MinMaxScaler was fitted without feature names\n",
      "  warnings.warn(\n"
     ]
    },
    {
     "name": "stdout",
     "output_type": "stream",
     "text": [
      "Training on:  ./data/sample8.csv\n",
      "Saving Scaler... {'min': array([-16.26008744, -14.70411995]), 'max': array([13.06496848, 15.24576771])}\n"
     ]
    },
    {
     "name": "stderr",
     "output_type": "stream",
     "text": [
      "2024/10/23 20:16:33 INFO mlflow.tracking._tracking_service.client: 🏃 View run knn-test-run-2024-10-23T20:16:33.037001 at: http://127.0.0.1:5000/#/experiments/774240891014511625/runs/c707be33052c4701b8cc7c66174ff25d.\n",
      "2024/10/23 20:16:33 INFO mlflow.tracking._tracking_service.client: 🧪 View experiment at: http://127.0.0.1:5000/#/experiments/774240891014511625.\n",
      "/home/mkn/mlflow-adventures2/venv/lib/python3.10/site-packages/sklearn/base.py:486: UserWarning: X has feature names, but MinMaxScaler was fitted without feature names\n",
      "  warnings.warn(\n",
      "/home/mkn/mlflow-adventures2/venv/lib/python3.10/site-packages/sklearn/base.py:486: UserWarning: X has feature names, but MinMaxScaler was fitted without feature names\n",
      "  warnings.warn(\n"
     ]
    },
    {
     "name": "stdout",
     "output_type": "stream",
     "text": [
      "Training on:  ./data/sample9.csv\n",
      "Saving Scaler... {'min': array([-16.26008744, -14.70411995]), 'max': array([13.06496848, 15.24576771])}\n"
     ]
    },
    {
     "name": "stderr",
     "output_type": "stream",
     "text": [
      "2024/10/23 20:16:34 INFO mlflow.tracking._tracking_service.client: 🏃 View run knn-test-run-2024-10-23T20:16:33.824849 at: http://127.0.0.1:5000/#/experiments/774240891014511625/runs/7e1bdd04c46d478391c375bb20fade56.\n",
      "2024/10/23 20:16:34 INFO mlflow.tracking._tracking_service.client: 🧪 View experiment at: http://127.0.0.1:5000/#/experiments/774240891014511625.\n",
      "/home/mkn/mlflow-adventures2/venv/lib/python3.10/site-packages/sklearn/base.py:486: UserWarning: X has feature names, but MinMaxScaler was fitted without feature names\n",
      "  warnings.warn(\n",
      "/home/mkn/mlflow-adventures2/venv/lib/python3.10/site-packages/sklearn/base.py:486: UserWarning: X has feature names, but MinMaxScaler was fitted without feature names\n",
      "  warnings.warn(\n"
     ]
    },
    {
     "name": "stdout",
     "output_type": "stream",
     "text": [
      "Training on:  ./data/sample10.csv\n",
      "Saving Scaler... {'min': array([-16.26008744, -14.70411995]), 'max': array([13.06496848, 15.24576771])}\n"
     ]
    },
    {
     "name": "stderr",
     "output_type": "stream",
     "text": [
      "2024/10/23 20:16:35 INFO mlflow.tracking._tracking_service.client: 🏃 View run knn-test-run-2024-10-23T20:16:34.592652 at: http://127.0.0.1:5000/#/experiments/774240891014511625/runs/a5723987a6b243229e246e0ef444ecf8.\n",
      "2024/10/23 20:16:35 INFO mlflow.tracking._tracking_service.client: 🧪 View experiment at: http://127.0.0.1:5000/#/experiments/774240891014511625.\n"
     ]
    },
    {
     "name": "stdout",
     "output_type": "stream",
     "text": [
      "Training Complete.\n"
     ]
    }
   ],
   "source": [
    "for i,data in enumerate(datas):\n",
    "    print(\"Training on: \",data)\n",
    "    \n",
    "    df = pd.read_csv(data)\n",
    "    X, y = transform_data(df,\"scaler-knn\")  \n",
    "    \n",
    "    tag = {\"data\":\"sample\"+str(i), \"model\": \"KNN\"}\n",
    "    runname = \"knn-test-run-\" + str(datetime.datetime.now()).replace(\" \",\"T\")\n",
    "    with mlflow.start_run(run_name=runname) as run:\n",
    "        mlflow.set_tags(tag)                                    # Tags to help in tracking\n",
    "\n",
    "        metrics = train_model(X, y, model)                      # Training the model\n",
    "        mlflow.log_params(params)                               # Log params/hyperparameters used in experiement\n",
    "        \n",
    "        mlflow.log_metric(\"Avg CV\",sum(metrics[\"cv_score\"])/10) # Log metrics of the experiement\n",
    "        mlflow.log_metric(\"Accuracy\", metrics[\"accuracy\"])\n",
    "        \n",
    "        signature = infer_signature(X, model.predict(X))\n",
    "        mlflow.sklearn.log_model(model, artifact_path=\"models\", signature=signature) # Log model created\n",
    "    mlflow.end_run()\n",
    "print(\"Training Complete.\")"
   ]
  },
  {
   "cell_type": "markdown",
   "id": "704dbdb1",
   "metadata": {
    "ExecuteTime": {
     "end_time": "2021-11-29T12:13:43.664942Z",
     "start_time": "2021-11-29T12:13:43.641112Z"
    }
   },
   "source": [
    "### Test Prediction"
   ]
  },
  {
   "cell_type": "code",
   "execution_count": 10,
   "id": "0c497ab9",
   "metadata": {
    "ExecuteTime": {
     "end_time": "2021-12-11T08:18:44.719696Z",
     "start_time": "2021-12-11T08:18:44.706497Z"
    }
   },
   "outputs": [],
   "source": [
    "testdata = pd.read_csv(\"./data/testdata.csv\")\n",
    "testdata1 = testdata[:10].copy(deep=True)\n",
    "testdata1.drop(columns=[\"label\"],axis=1,inplace=True)"
   ]
  },
  {
   "cell_type": "code",
   "execution_count": 11,
   "id": "1ed5a0ad",
   "metadata": {
    "ExecuteTime": {
     "end_time": "2021-12-11T08:18:46.681096Z",
     "start_time": "2021-12-11T08:18:46.654373Z"
    },
    "cell_style": "split"
   },
   "outputs": [
    {
     "data": {
      "text/html": [
       "<div>\n",
       "<style scoped>\n",
       "    .dataframe tbody tr th:only-of-type {\n",
       "        vertical-align: middle;\n",
       "    }\n",
       "\n",
       "    .dataframe tbody tr th {\n",
       "        vertical-align: top;\n",
       "    }\n",
       "\n",
       "    .dataframe thead th {\n",
       "        text-align: right;\n",
       "    }\n",
       "</style>\n",
       "<table border=\"1\" class=\"dataframe\">\n",
       "  <thead>\n",
       "    <tr style=\"text-align: right;\">\n",
       "      <th></th>\n",
       "      <th>Coord_X</th>\n",
       "      <th>Coord_Y</th>\n",
       "    </tr>\n",
       "  </thead>\n",
       "  <tbody>\n",
       "    <tr>\n",
       "      <th>0</th>\n",
       "      <td>-12.118184</td>\n",
       "      <td>-4.776587</td>\n",
       "    </tr>\n",
       "    <tr>\n",
       "      <th>1</th>\n",
       "      <td>-9.893147</td>\n",
       "      <td>0.342965</td>\n",
       "    </tr>\n",
       "    <tr>\n",
       "      <th>2</th>\n",
       "      <td>-10.483853</td>\n",
       "      <td>-9.362718</td>\n",
       "    </tr>\n",
       "    <tr>\n",
       "      <th>3</th>\n",
       "      <td>-9.926457</td>\n",
       "      <td>-5.337223</td>\n",
       "    </tr>\n",
       "    <tr>\n",
       "      <th>4</th>\n",
       "      <td>6.855357</td>\n",
       "      <td>9.917814</td>\n",
       "    </tr>\n",
       "    <tr>\n",
       "      <th>5</th>\n",
       "      <td>-7.032794</td>\n",
       "      <td>-2.027453</td>\n",
       "    </tr>\n",
       "    <tr>\n",
       "      <th>6</th>\n",
       "      <td>-8.412141</td>\n",
       "      <td>-3.723905</td>\n",
       "    </tr>\n",
       "    <tr>\n",
       "      <th>7</th>\n",
       "      <td>-10.343032</td>\n",
       "      <td>-5.507503</td>\n",
       "    </tr>\n",
       "    <tr>\n",
       "      <th>8</th>\n",
       "      <td>-11.132471</td>\n",
       "      <td>-3.226087</td>\n",
       "    </tr>\n",
       "    <tr>\n",
       "      <th>9</th>\n",
       "      <td>9.028458</td>\n",
       "      <td>4.500849</td>\n",
       "    </tr>\n",
       "  </tbody>\n",
       "</table>\n",
       "</div>"
      ],
      "text/plain": [
       "     Coord_X   Coord_Y\n",
       "0 -12.118184 -4.776587\n",
       "1  -9.893147  0.342965\n",
       "2 -10.483853 -9.362718\n",
       "3  -9.926457 -5.337223\n",
       "4   6.855357  9.917814\n",
       "5  -7.032794 -2.027453\n",
       "6  -8.412141 -3.723905\n",
       "7 -10.343032 -5.507503\n",
       "8 -11.132471 -3.226087\n",
       "9   9.028458  4.500849"
      ]
     },
     "execution_count": 11,
     "metadata": {},
     "output_type": "execute_result"
    }
   ],
   "source": [
    "testdata1"
   ]
  },
  {
   "cell_type": "code",
   "execution_count": 12,
   "id": "bb364e1c",
   "metadata": {
    "ExecuteTime": {
     "end_time": "2021-12-11T08:18:50.169220Z",
     "start_time": "2021-12-11T08:18:50.157279Z"
    },
    "cell_style": "split"
   },
   "outputs": [
    {
     "data": {
      "text/html": [
       "<div>\n",
       "<style scoped>\n",
       "    .dataframe tbody tr th:only-of-type {\n",
       "        vertical-align: middle;\n",
       "    }\n",
       "\n",
       "    .dataframe tbody tr th {\n",
       "        vertical-align: top;\n",
       "    }\n",
       "\n",
       "    .dataframe thead th {\n",
       "        text-align: right;\n",
       "    }\n",
       "</style>\n",
       "<table border=\"1\" class=\"dataframe\">\n",
       "  <thead>\n",
       "    <tr style=\"text-align: right;\">\n",
       "      <th></th>\n",
       "      <th>Coord_X</th>\n",
       "      <th>Coord_Y</th>\n",
       "      <th>label</th>\n",
       "    </tr>\n",
       "  </thead>\n",
       "  <tbody>\n",
       "    <tr>\n",
       "      <th>0</th>\n",
       "      <td>-12.118184</td>\n",
       "      <td>-4.776587</td>\n",
       "      <td>Blue</td>\n",
       "    </tr>\n",
       "    <tr>\n",
       "      <th>1</th>\n",
       "      <td>-9.893147</td>\n",
       "      <td>0.342965</td>\n",
       "      <td>Blue</td>\n",
       "    </tr>\n",
       "    <tr>\n",
       "      <th>2</th>\n",
       "      <td>-10.483853</td>\n",
       "      <td>-9.362718</td>\n",
       "      <td>Blue</td>\n",
       "    </tr>\n",
       "    <tr>\n",
       "      <th>3</th>\n",
       "      <td>-9.926457</td>\n",
       "      <td>-5.337223</td>\n",
       "      <td>Blue</td>\n",
       "    </tr>\n",
       "    <tr>\n",
       "      <th>4</th>\n",
       "      <td>6.855357</td>\n",
       "      <td>9.917814</td>\n",
       "      <td>Red</td>\n",
       "    </tr>\n",
       "    <tr>\n",
       "      <th>5</th>\n",
       "      <td>-7.032794</td>\n",
       "      <td>-2.027453</td>\n",
       "      <td>Blue</td>\n",
       "    </tr>\n",
       "    <tr>\n",
       "      <th>6</th>\n",
       "      <td>-8.412141</td>\n",
       "      <td>-3.723905</td>\n",
       "      <td>Blue</td>\n",
       "    </tr>\n",
       "    <tr>\n",
       "      <th>7</th>\n",
       "      <td>-10.343032</td>\n",
       "      <td>-5.507503</td>\n",
       "      <td>Blue</td>\n",
       "    </tr>\n",
       "    <tr>\n",
       "      <th>8</th>\n",
       "      <td>-11.132471</td>\n",
       "      <td>-3.226087</td>\n",
       "      <td>Blue</td>\n",
       "    </tr>\n",
       "    <tr>\n",
       "      <th>9</th>\n",
       "      <td>9.028458</td>\n",
       "      <td>4.500849</td>\n",
       "      <td>Red</td>\n",
       "    </tr>\n",
       "  </tbody>\n",
       "</table>\n",
       "</div>"
      ],
      "text/plain": [
       "     Coord_X   Coord_Y label\n",
       "0 -12.118184 -4.776587  Blue\n",
       "1  -9.893147  0.342965  Blue\n",
       "2 -10.483853 -9.362718  Blue\n",
       "3  -9.926457 -5.337223  Blue\n",
       "4   6.855357  9.917814   Red\n",
       "5  -7.032794 -2.027453  Blue\n",
       "6  -8.412141 -3.723905  Blue\n",
       "7 -10.343032 -5.507503  Blue\n",
       "8 -11.132471 -3.226087  Blue\n",
       "9   9.028458  4.500849   Red"
      ]
     },
     "execution_count": 12,
     "metadata": {},
     "output_type": "execute_result"
    }
   ],
   "source": [
    "testdata[:10]"
   ]
  },
  {
   "cell_type": "code",
   "execution_count": 13,
   "id": "4073e5a2",
   "metadata": {
    "ExecuteTime": {
     "end_time": "2021-12-11T08:18:54.130528Z",
     "start_time": "2021-12-11T08:18:54.124246Z"
    }
   },
   "outputs": [
    {
     "name": "stderr",
     "output_type": "stream",
     "text": [
      "/home/mkn/mlflow-adventures2/venv/lib/python3.10/site-packages/sklearn/base.py:486: UserWarning: X has feature names, but MinMaxScaler was fitted without feature names\n",
      "  warnings.warn(\n"
     ]
    }
   ],
   "source": [
    "scaleddata = scale_data(\"scaler-knn\",testdata1)"
   ]
  },
  {
   "cell_type": "code",
   "execution_count": 14,
   "id": "4c3fac48",
   "metadata": {
    "ExecuteTime": {
     "end_time": "2021-12-11T08:18:56.268745Z",
     "start_time": "2021-12-11T08:18:56.263935Z"
    }
   },
   "outputs": [
    {
     "data": {
      "text/plain": [
       "array([[0.14124111, 0.33147147],\n",
       "       [0.21711604, 0.50240871],\n",
       "       [0.19697265, 0.17834464],\n",
       "       [0.21598018, 0.31275232],\n",
       "       [0.78824895, 0.82210437],\n",
       "       [0.31465563, 0.42326257],\n",
       "       [0.26761915, 0.36661955],\n",
       "       [0.20177475, 0.30706681],\n",
       "       [0.17485446, 0.38324128],\n",
       "       [0.86235285, 0.64123676]])"
      ]
     },
     "execution_count": 14,
     "metadata": {},
     "output_type": "execute_result"
    }
   ],
   "source": [
    "scaleddata"
   ]
  },
  {
   "cell_type": "code",
   "execution_count": 16,
   "id": "6f9ab017",
   "metadata": {
    "ExecuteTime": {
     "end_time": "2021-12-11T08:24:08.498991Z",
     "start_time": "2021-12-11T08:24:08.467592Z"
    }
   },
   "outputs": [
    {
     "data": {
      "text/plain": [
       "array(['Blue', 'Blue', 'Blue', 'Blue', 'Red', 'Blue', 'Blue', 'Blue',\n",
       "       'Blue', 'Red'], dtype=object)"
      ]
     },
     "execution_count": 16,
     "metadata": {},
     "output_type": "execute_result"
    }
   ],
   "source": [
    "logged_model = 'runs:/4f5371d0228d48a4a58d947769fe6402/models'\n",
    "loaded_model = mlflow.pyfunc.load_model(logged_model)\n",
    "loaded_model.predict(scaleddata)"
   ]
  },
  {
   "cell_type": "markdown",
   "id": "e8957199",
   "metadata": {},
   "source": [
    "---"
   ]
  },
  {
   "cell_type": "markdown",
   "id": "0854cab0",
   "metadata": {},
   "source": [
    "### Training and Tracking - Random Forest Classifier"
   ]
  },
  {
   "cell_type": "code",
   "execution_count": 17,
   "id": "577a84e6",
   "metadata": {
    "ExecuteTime": {
     "end_time": "2021-12-11T08:20:29.529621Z",
     "start_time": "2021-12-11T08:20:29.512247Z"
    }
   },
   "outputs": [],
   "source": [
    "from sklearn.ensemble import RandomForestClassifier"
   ]
  },
  {
   "cell_type": "code",
   "execution_count": 18,
   "id": "4d3cc3ba",
   "metadata": {
    "ExecuteTime": {
     "end_time": "2021-12-11T08:20:33.256858Z",
     "start_time": "2021-12-11T08:20:33.249628Z"
    }
   },
   "outputs": [],
   "source": [
    "model = RandomForestClassifier(n_estimators=250,max_depth=7)\n",
    "params = {\"estimators\":250,\"max_depth\":7}"
   ]
  },
  {
   "cell_type": "code",
   "execution_count": 19,
   "id": "95d062ac",
   "metadata": {
    "ExecuteTime": {
     "end_time": "2021-12-11T08:21:26.789187Z",
     "start_time": "2021-12-11T08:20:48.934623Z"
    }
   },
   "outputs": [
    {
     "name": "stdout",
     "output_type": "stream",
     "text": [
      "Training on:  ./data/sample1.csv\n",
      "Saving Scaler... {'min': array([-16.26008744, -14.70411995]), 'max': array([13.06496848, 15.24576771])}\n"
     ]
    },
    {
     "name": "stderr",
     "output_type": "stream",
     "text": [
      "/home/mkn/mlflow-adventures2/venv/lib/python3.10/site-packages/sklearn/base.py:376: InconsistentVersionWarning: Trying to unpickle estimator MinMaxScaler from version 0.24.1 when using version 1.5.2. This might lead to breaking code or invalid results. Use at your own risk. For more info please refer to:\n",
      "https://scikit-learn.org/stable/model_persistence.html#security-maintainability-limitations\n",
      "  warnings.warn(\n",
      "/home/mkn/mlflow-adventures2/venv/lib/python3.10/site-packages/sklearn/base.py:486: UserWarning: X has feature names, but MinMaxScaler was fitted without feature names\n",
      "  warnings.warn(\n",
      "/home/mkn/mlflow-adventures2/venv/lib/python3.10/site-packages/sklearn/base.py:486: UserWarning: X has feature names, but MinMaxScaler was fitted without feature names\n",
      "  warnings.warn(\n",
      "2024/10/23 20:17:48 WARNING mlflow.models.model: Model logged without a signature and input example. Please set `input_example` parameter when logging the model to auto infer the model signature.\n",
      "2024/10/23 20:17:48 INFO mlflow.tracking._tracking_service.client: 🏃 View run random-forest-test-run0 at: http://127.0.0.1:5000/#/experiments/774240891014511625/runs/9b662285b6ae45f8bc34fec4dc711e8a.\n",
      "2024/10/23 20:17:48 INFO mlflow.tracking._tracking_service.client: 🧪 View experiment at: http://127.0.0.1:5000/#/experiments/774240891014511625.\n",
      "/home/mkn/mlflow-adventures2/venv/lib/python3.10/site-packages/sklearn/base.py:486: UserWarning: X has feature names, but MinMaxScaler was fitted without feature names\n",
      "  warnings.warn(\n",
      "/home/mkn/mlflow-adventures2/venv/lib/python3.10/site-packages/sklearn/base.py:486: UserWarning: X has feature names, but MinMaxScaler was fitted without feature names\n",
      "  warnings.warn(\n"
     ]
    },
    {
     "name": "stdout",
     "output_type": "stream",
     "text": [
      "Training on:  ./data/sample2.csv\n",
      "Saving Scaler... {'min': array([-16.26008744, -14.70411995]), 'max': array([13.06496848, 15.24576771])}\n"
     ]
    },
    {
     "name": "stderr",
     "output_type": "stream",
     "text": [
      "2024/10/23 20:17:50 WARNING mlflow.models.model: Model logged without a signature and input example. Please set `input_example` parameter when logging the model to auto infer the model signature.\n",
      "2024/10/23 20:17:50 INFO mlflow.tracking._tracking_service.client: 🏃 View run random-forest-test-run1 at: http://127.0.0.1:5000/#/experiments/774240891014511625/runs/f977b014f9b843ef9854c5b2bb4c7233.\n",
      "2024/10/23 20:17:50 INFO mlflow.tracking._tracking_service.client: 🧪 View experiment at: http://127.0.0.1:5000/#/experiments/774240891014511625.\n",
      "/home/mkn/mlflow-adventures2/venv/lib/python3.10/site-packages/sklearn/base.py:486: UserWarning: X has feature names, but MinMaxScaler was fitted without feature names\n",
      "  warnings.warn(\n",
      "/home/mkn/mlflow-adventures2/venv/lib/python3.10/site-packages/sklearn/base.py:486: UserWarning: X has feature names, but MinMaxScaler was fitted without feature names\n",
      "  warnings.warn(\n"
     ]
    },
    {
     "name": "stdout",
     "output_type": "stream",
     "text": [
      "Training on:  ./data/sample3.csv\n",
      "Saving Scaler... {'min': array([-16.26008744, -14.70411995]), 'max': array([13.06496848, 15.24576771])}\n"
     ]
    },
    {
     "name": "stderr",
     "output_type": "stream",
     "text": [
      "2024/10/23 20:17:53 WARNING mlflow.models.model: Model logged without a signature and input example. Please set `input_example` parameter when logging the model to auto infer the model signature.\n",
      "2024/10/23 20:17:53 INFO mlflow.tracking._tracking_service.client: 🏃 View run random-forest-test-run2 at: http://127.0.0.1:5000/#/experiments/774240891014511625/runs/2042b0ee50a346f09c46af32a88c2160.\n",
      "2024/10/23 20:17:53 INFO mlflow.tracking._tracking_service.client: 🧪 View experiment at: http://127.0.0.1:5000/#/experiments/774240891014511625.\n",
      "/home/mkn/mlflow-adventures2/venv/lib/python3.10/site-packages/sklearn/base.py:486: UserWarning: X has feature names, but MinMaxScaler was fitted without feature names\n",
      "  warnings.warn(\n",
      "/home/mkn/mlflow-adventures2/venv/lib/python3.10/site-packages/sklearn/base.py:486: UserWarning: X has feature names, but MinMaxScaler was fitted without feature names\n",
      "  warnings.warn(\n"
     ]
    },
    {
     "name": "stdout",
     "output_type": "stream",
     "text": [
      "Training on:  ./data/sample4.csv\n",
      "Saving Scaler... {'min': array([-16.26008744, -14.70411995]), 'max': array([13.06496848, 15.24576771])}\n"
     ]
    },
    {
     "name": "stderr",
     "output_type": "stream",
     "text": [
      "2024/10/23 20:17:55 WARNING mlflow.models.model: Model logged without a signature and input example. Please set `input_example` parameter when logging the model to auto infer the model signature.\n",
      "2024/10/23 20:17:55 INFO mlflow.tracking._tracking_service.client: 🏃 View run random-forest-test-run3 at: http://127.0.0.1:5000/#/experiments/774240891014511625/runs/0d51be4793f147af993f0a85ee9bd7e0.\n",
      "2024/10/23 20:17:55 INFO mlflow.tracking._tracking_service.client: 🧪 View experiment at: http://127.0.0.1:5000/#/experiments/774240891014511625.\n",
      "/home/mkn/mlflow-adventures2/venv/lib/python3.10/site-packages/sklearn/base.py:486: UserWarning: X has feature names, but MinMaxScaler was fitted without feature names\n",
      "  warnings.warn(\n",
      "/home/mkn/mlflow-adventures2/venv/lib/python3.10/site-packages/sklearn/base.py:486: UserWarning: X has feature names, but MinMaxScaler was fitted without feature names\n",
      "  warnings.warn(\n"
     ]
    },
    {
     "name": "stdout",
     "output_type": "stream",
     "text": [
      "Training on:  ./data/sample5.csv\n",
      "Saving Scaler... {'min': array([-16.26008744, -14.70411995]), 'max': array([13.06496848, 15.24576771])}\n"
     ]
    },
    {
     "name": "stderr",
     "output_type": "stream",
     "text": [
      "2024/10/23 20:17:57 WARNING mlflow.models.model: Model logged without a signature and input example. Please set `input_example` parameter when logging the model to auto infer the model signature.\n",
      "2024/10/23 20:17:57 INFO mlflow.tracking._tracking_service.client: 🏃 View run random-forest-test-run4 at: http://127.0.0.1:5000/#/experiments/774240891014511625/runs/4e438e966b5a4c178db0d21d9ecb3def.\n",
      "2024/10/23 20:17:57 INFO mlflow.tracking._tracking_service.client: 🧪 View experiment at: http://127.0.0.1:5000/#/experiments/774240891014511625.\n",
      "/home/mkn/mlflow-adventures2/venv/lib/python3.10/site-packages/sklearn/base.py:486: UserWarning: X has feature names, but MinMaxScaler was fitted without feature names\n",
      "  warnings.warn(\n",
      "/home/mkn/mlflow-adventures2/venv/lib/python3.10/site-packages/sklearn/base.py:486: UserWarning: X has feature names, but MinMaxScaler was fitted without feature names\n",
      "  warnings.warn(\n"
     ]
    },
    {
     "name": "stdout",
     "output_type": "stream",
     "text": [
      "Training on:  ./data/sample6.csv\n",
      "Saving Scaler... {'min': array([-16.26008744, -14.70411995]), 'max': array([13.06496848, 15.24576771])}\n"
     ]
    },
    {
     "name": "stderr",
     "output_type": "stream",
     "text": [
      "2024/10/23 20:17:59 WARNING mlflow.models.model: Model logged without a signature and input example. Please set `input_example` parameter when logging the model to auto infer the model signature.\n",
      "2024/10/23 20:17:59 INFO mlflow.tracking._tracking_service.client: 🏃 View run random-forest-test-run5 at: http://127.0.0.1:5000/#/experiments/774240891014511625/runs/a8661f3aeaeb4c72aab77ab8176a6595.\n",
      "2024/10/23 20:17:59 INFO mlflow.tracking._tracking_service.client: 🧪 View experiment at: http://127.0.0.1:5000/#/experiments/774240891014511625.\n",
      "/home/mkn/mlflow-adventures2/venv/lib/python3.10/site-packages/sklearn/base.py:486: UserWarning: X has feature names, but MinMaxScaler was fitted without feature names\n",
      "  warnings.warn(\n",
      "/home/mkn/mlflow-adventures2/venv/lib/python3.10/site-packages/sklearn/base.py:486: UserWarning: X has feature names, but MinMaxScaler was fitted without feature names\n",
      "  warnings.warn(\n"
     ]
    },
    {
     "name": "stdout",
     "output_type": "stream",
     "text": [
      "Training on:  ./data/sample7.csv\n",
      "Saving Scaler... {'min': array([-16.26008744, -14.70411995]), 'max': array([13.06496848, 15.24576771])}\n"
     ]
    },
    {
     "name": "stderr",
     "output_type": "stream",
     "text": [
      "2024/10/23 20:18:02 WARNING mlflow.models.model: Model logged without a signature and input example. Please set `input_example` parameter when logging the model to auto infer the model signature.\n",
      "2024/10/23 20:18:02 INFO mlflow.tracking._tracking_service.client: 🏃 View run random-forest-test-run6 at: http://127.0.0.1:5000/#/experiments/774240891014511625/runs/602e6991b63d4e8386947a4bd1a0def7.\n",
      "2024/10/23 20:18:02 INFO mlflow.tracking._tracking_service.client: 🧪 View experiment at: http://127.0.0.1:5000/#/experiments/774240891014511625.\n",
      "/home/mkn/mlflow-adventures2/venv/lib/python3.10/site-packages/sklearn/base.py:486: UserWarning: X has feature names, but MinMaxScaler was fitted without feature names\n",
      "  warnings.warn(\n",
      "/home/mkn/mlflow-adventures2/venv/lib/python3.10/site-packages/sklearn/base.py:486: UserWarning: X has feature names, but MinMaxScaler was fitted without feature names\n",
      "  warnings.warn(\n"
     ]
    },
    {
     "name": "stdout",
     "output_type": "stream",
     "text": [
      "Training on:  ./data/sample8.csv\n",
      "Saving Scaler... {'min': array([-16.26008744, -14.70411995]), 'max': array([13.06496848, 15.24576771])}\n"
     ]
    },
    {
     "name": "stderr",
     "output_type": "stream",
     "text": [
      "2024/10/23 20:18:04 WARNING mlflow.models.model: Model logged without a signature and input example. Please set `input_example` parameter when logging the model to auto infer the model signature.\n",
      "2024/10/23 20:18:04 INFO mlflow.tracking._tracking_service.client: 🏃 View run random-forest-test-run7 at: http://127.0.0.1:5000/#/experiments/774240891014511625/runs/327a8de4b1294f6f9473ddf2b7ec94cd.\n",
      "2024/10/23 20:18:04 INFO mlflow.tracking._tracking_service.client: 🧪 View experiment at: http://127.0.0.1:5000/#/experiments/774240891014511625.\n",
      "/home/mkn/mlflow-adventures2/venv/lib/python3.10/site-packages/sklearn/base.py:486: UserWarning: X has feature names, but MinMaxScaler was fitted without feature names\n",
      "  warnings.warn(\n",
      "/home/mkn/mlflow-adventures2/venv/lib/python3.10/site-packages/sklearn/base.py:486: UserWarning: X has feature names, but MinMaxScaler was fitted without feature names\n",
      "  warnings.warn(\n"
     ]
    },
    {
     "name": "stdout",
     "output_type": "stream",
     "text": [
      "Training on:  ./data/sample9.csv\n",
      "Saving Scaler... {'min': array([-16.26008744, -14.70411995]), 'max': array([13.06496848, 15.24576771])}\n"
     ]
    },
    {
     "name": "stderr",
     "output_type": "stream",
     "text": [
      "2024/10/23 20:18:06 WARNING mlflow.models.model: Model logged without a signature and input example. Please set `input_example` parameter when logging the model to auto infer the model signature.\n",
      "2024/10/23 20:18:06 INFO mlflow.tracking._tracking_service.client: 🏃 View run random-forest-test-run8 at: http://127.0.0.1:5000/#/experiments/774240891014511625/runs/d1015458e0a44aa095d1db02caa55c42.\n",
      "2024/10/23 20:18:06 INFO mlflow.tracking._tracking_service.client: 🧪 View experiment at: http://127.0.0.1:5000/#/experiments/774240891014511625.\n",
      "/home/mkn/mlflow-adventures2/venv/lib/python3.10/site-packages/sklearn/base.py:486: UserWarning: X has feature names, but MinMaxScaler was fitted without feature names\n",
      "  warnings.warn(\n",
      "/home/mkn/mlflow-adventures2/venv/lib/python3.10/site-packages/sklearn/base.py:486: UserWarning: X has feature names, but MinMaxScaler was fitted without feature names\n",
      "  warnings.warn(\n"
     ]
    },
    {
     "name": "stdout",
     "output_type": "stream",
     "text": [
      "Training on:  ./data/sample10.csv\n",
      "Saving Scaler... {'min': array([-16.26008744, -14.70411995]), 'max': array([13.06496848, 15.24576771])}\n"
     ]
    },
    {
     "name": "stderr",
     "output_type": "stream",
     "text": [
      "2024/10/23 20:18:09 WARNING mlflow.models.model: Model logged without a signature and input example. Please set `input_example` parameter when logging the model to auto infer the model signature.\n",
      "2024/10/23 20:18:09 INFO mlflow.tracking._tracking_service.client: 🏃 View run random-forest-test-run9 at: http://127.0.0.1:5000/#/experiments/774240891014511625/runs/249efa07dc3a41f4a5ec6a37c1c3f1db.\n",
      "2024/10/23 20:18:09 INFO mlflow.tracking._tracking_service.client: 🧪 View experiment at: http://127.0.0.1:5000/#/experiments/774240891014511625.\n"
     ]
    }
   ],
   "source": [
    "for i,data in enumerate(datas):\n",
    "    print(\"Training on: \",data)\n",
    "    df = pd.read_csv(data)\n",
    "    X, y = transform_data(df,\"scaler-rfc\")  \n",
    "    tag = {\"data\":\"sample\"+str(i), \"model\": \"RandomForestClassifier\", }\n",
    "    with mlflow.start_run(run_name=\"random-forest-test-run\"+str(i)):\n",
    "        mlflow.set_tags(tag)\n",
    "        metrics = train_model(X, y, model)\n",
    "        mlflow.log_params(params)\n",
    "\n",
    "        mlflow.log_metric(\"Avg CV\",sum(metrics[\"cv_score\"])/10)\n",
    "        mlflow.log_metric(\"Accuracy\", metrics[\"accuracy\"])\n",
    "        mlflow.sklearn.log_model(model, artifact_path=\"models\")\n",
    "    mlflow.end_run()"
   ]
  },
  {
   "cell_type": "markdown",
   "id": "a2276295",
   "metadata": {
    "ExecuteTime": {
     "end_time": "2021-11-29T12:13:43.664942Z",
     "start_time": "2021-11-29T12:13:43.641112Z"
    }
   },
   "source": [
    "### Test Prediction"
   ]
  },
  {
   "cell_type": "code",
   "execution_count": 20,
   "id": "30a445e5",
   "metadata": {
    "ExecuteTime": {
     "end_time": "2021-12-08T06:35:40.027045Z",
     "start_time": "2021-12-08T06:35:40.009736Z"
    }
   },
   "outputs": [],
   "source": [
    "testdata = pd.read_csv(\"./data/testdata.csv\")\n",
    "testdata1 = testdata[30:40].copy(deep=True)\n",
    "testdata1.drop(columns=[\"label\"],axis=1,inplace=True)"
   ]
  },
  {
   "cell_type": "code",
   "execution_count": 21,
   "id": "0190fb53",
   "metadata": {
    "ExecuteTime": {
     "end_time": "2021-12-08T06:35:41.791653Z",
     "start_time": "2021-12-08T06:35:41.779008Z"
    },
    "cell_style": "split"
   },
   "outputs": [
    {
     "data": {
      "text/html": [
       "<div>\n",
       "<style scoped>\n",
       "    .dataframe tbody tr th:only-of-type {\n",
       "        vertical-align: middle;\n",
       "    }\n",
       "\n",
       "    .dataframe tbody tr th {\n",
       "        vertical-align: top;\n",
       "    }\n",
       "\n",
       "    .dataframe thead th {\n",
       "        text-align: right;\n",
       "    }\n",
       "</style>\n",
       "<table border=\"1\" class=\"dataframe\">\n",
       "  <thead>\n",
       "    <tr style=\"text-align: right;\">\n",
       "      <th></th>\n",
       "      <th>Coord_X</th>\n",
       "      <th>Coord_Y</th>\n",
       "    </tr>\n",
       "  </thead>\n",
       "  <tbody>\n",
       "    <tr>\n",
       "      <th>30</th>\n",
       "      <td>6.622613</td>\n",
       "      <td>5.391746</td>\n",
       "    </tr>\n",
       "    <tr>\n",
       "      <th>31</th>\n",
       "      <td>-10.323982</td>\n",
       "      <td>-2.317440</td>\n",
       "    </tr>\n",
       "    <tr>\n",
       "      <th>32</th>\n",
       "      <td>4.245213</td>\n",
       "      <td>7.159069</td>\n",
       "    </tr>\n",
       "    <tr>\n",
       "      <th>33</th>\n",
       "      <td>5.033033</td>\n",
       "      <td>7.059280</td>\n",
       "    </tr>\n",
       "    <tr>\n",
       "      <th>34</th>\n",
       "      <td>-9.004518</td>\n",
       "      <td>-1.801242</td>\n",
       "    </tr>\n",
       "    <tr>\n",
       "      <th>35</th>\n",
       "      <td>-10.162748</td>\n",
       "      <td>-3.043643</td>\n",
       "    </tr>\n",
       "    <tr>\n",
       "      <th>36</th>\n",
       "      <td>8.347467</td>\n",
       "      <td>3.078762</td>\n",
       "    </tr>\n",
       "    <tr>\n",
       "      <th>37</th>\n",
       "      <td>4.891885</td>\n",
       "      <td>4.554404</td>\n",
       "    </tr>\n",
       "    <tr>\n",
       "      <th>38</th>\n",
       "      <td>-8.968798</td>\n",
       "      <td>-5.160931</td>\n",
       "    </tr>\n",
       "    <tr>\n",
       "      <th>39</th>\n",
       "      <td>3.005623</td>\n",
       "      <td>9.855042</td>\n",
       "    </tr>\n",
       "  </tbody>\n",
       "</table>\n",
       "</div>"
      ],
      "text/plain": [
       "      Coord_X   Coord_Y\n",
       "30   6.622613  5.391746\n",
       "31 -10.323982 -2.317440\n",
       "32   4.245213  7.159069\n",
       "33   5.033033  7.059280\n",
       "34  -9.004518 -1.801242\n",
       "35 -10.162748 -3.043643\n",
       "36   8.347467  3.078762\n",
       "37   4.891885  4.554404\n",
       "38  -8.968798 -5.160931\n",
       "39   3.005623  9.855042"
      ]
     },
     "execution_count": 21,
     "metadata": {},
     "output_type": "execute_result"
    }
   ],
   "source": [
    "testdata1"
   ]
  },
  {
   "cell_type": "code",
   "execution_count": 22,
   "id": "334bf80e",
   "metadata": {
    "ExecuteTime": {
     "end_time": "2021-12-08T06:35:43.909319Z",
     "start_time": "2021-12-08T06:35:43.897923Z"
    },
    "cell_style": "split"
   },
   "outputs": [
    {
     "data": {
      "text/html": [
       "<div>\n",
       "<style scoped>\n",
       "    .dataframe tbody tr th:only-of-type {\n",
       "        vertical-align: middle;\n",
       "    }\n",
       "\n",
       "    .dataframe tbody tr th {\n",
       "        vertical-align: top;\n",
       "    }\n",
       "\n",
       "    .dataframe thead th {\n",
       "        text-align: right;\n",
       "    }\n",
       "</style>\n",
       "<table border=\"1\" class=\"dataframe\">\n",
       "  <thead>\n",
       "    <tr style=\"text-align: right;\">\n",
       "      <th></th>\n",
       "      <th>Coord_X</th>\n",
       "      <th>Coord_Y</th>\n",
       "      <th>label</th>\n",
       "    </tr>\n",
       "  </thead>\n",
       "  <tbody>\n",
       "    <tr>\n",
       "      <th>30</th>\n",
       "      <td>6.622613</td>\n",
       "      <td>5.391746</td>\n",
       "      <td>Red</td>\n",
       "    </tr>\n",
       "    <tr>\n",
       "      <th>31</th>\n",
       "      <td>-10.323982</td>\n",
       "      <td>-2.317440</td>\n",
       "      <td>Blue</td>\n",
       "    </tr>\n",
       "    <tr>\n",
       "      <th>32</th>\n",
       "      <td>4.245213</td>\n",
       "      <td>7.159069</td>\n",
       "      <td>Red</td>\n",
       "    </tr>\n",
       "    <tr>\n",
       "      <th>33</th>\n",
       "      <td>5.033033</td>\n",
       "      <td>7.059280</td>\n",
       "      <td>Red</td>\n",
       "    </tr>\n",
       "    <tr>\n",
       "      <th>34</th>\n",
       "      <td>-9.004518</td>\n",
       "      <td>-1.801242</td>\n",
       "      <td>Blue</td>\n",
       "    </tr>\n",
       "    <tr>\n",
       "      <th>35</th>\n",
       "      <td>-10.162748</td>\n",
       "      <td>-3.043643</td>\n",
       "      <td>Blue</td>\n",
       "    </tr>\n",
       "    <tr>\n",
       "      <th>36</th>\n",
       "      <td>8.347467</td>\n",
       "      <td>3.078762</td>\n",
       "      <td>Red</td>\n",
       "    </tr>\n",
       "    <tr>\n",
       "      <th>37</th>\n",
       "      <td>4.891885</td>\n",
       "      <td>4.554404</td>\n",
       "      <td>Red</td>\n",
       "    </tr>\n",
       "    <tr>\n",
       "      <th>38</th>\n",
       "      <td>-8.968798</td>\n",
       "      <td>-5.160931</td>\n",
       "      <td>Blue</td>\n",
       "    </tr>\n",
       "    <tr>\n",
       "      <th>39</th>\n",
       "      <td>3.005623</td>\n",
       "      <td>9.855042</td>\n",
       "      <td>Red</td>\n",
       "    </tr>\n",
       "  </tbody>\n",
       "</table>\n",
       "</div>"
      ],
      "text/plain": [
       "      Coord_X   Coord_Y label\n",
       "30   6.622613  5.391746   Red\n",
       "31 -10.323982 -2.317440  Blue\n",
       "32   4.245213  7.159069   Red\n",
       "33   5.033033  7.059280   Red\n",
       "34  -9.004518 -1.801242  Blue\n",
       "35 -10.162748 -3.043643  Blue\n",
       "36   8.347467  3.078762   Red\n",
       "37   4.891885  4.554404   Red\n",
       "38  -8.968798 -5.160931  Blue\n",
       "39   3.005623  9.855042   Red"
      ]
     },
     "execution_count": 22,
     "metadata": {},
     "output_type": "execute_result"
    }
   ],
   "source": [
    "testdata[30:40]"
   ]
  },
  {
   "cell_type": "code",
   "execution_count": 23,
   "id": "39db9adc",
   "metadata": {
    "ExecuteTime": {
     "end_time": "2021-12-08T06:35:47.724392Z",
     "start_time": "2021-12-08T06:35:47.713898Z"
    }
   },
   "outputs": [
    {
     "name": "stderr",
     "output_type": "stream",
     "text": [
      "/home/mkn/mlflow-adventures2/venv/lib/python3.10/site-packages/sklearn/base.py:486: UserWarning: X has feature names, but MinMaxScaler was fitted without feature names\n",
      "  warnings.warn(\n"
     ]
    }
   ],
   "source": [
    "scaleddata = scale_data(\"scaler-rfc\",testdata1)"
   ]
  },
  {
   "cell_type": "code",
   "execution_count": 24,
   "id": "e48798ac",
   "metadata": {
    "ExecuteTime": {
     "end_time": "2021-12-08T06:35:55.730557Z",
     "start_time": "2021-12-08T06:35:55.668855Z"
    }
   },
   "outputs": [
    {
     "data": {
      "text/plain": [
       "array(['Red', 'Blue', 'Red', 'Red', 'Blue', 'Blue', 'Red', 'Red', 'Blue',\n",
       "       'Red'], dtype=object)"
      ]
     },
     "execution_count": 24,
     "metadata": {},
     "output_type": "execute_result"
    }
   ],
   "source": [
    "logged_model = 'runs:/602e6991b63d4e8386947a4bd1a0def7/models'\n",
    "loaded_model = mlflow.pyfunc.load_model(logged_model)\n",
    "loaded_model.predict(scaleddata)"
   ]
  }
 ],
 "metadata": {
  "kernelspec": {
   "display_name": "venv",
   "language": "python",
   "name": "python3"
  },
  "language_info": {
   "codemirror_mode": {
    "name": "ipython",
    "version": 3
   },
   "file_extension": ".py",
   "mimetype": "text/x-python",
   "name": "python",
   "nbconvert_exporter": "python",
   "pygments_lexer": "ipython3",
   "version": "3.10.12"
  },
  "latex_envs": {
   "LaTeX_envs_menu_present": true,
   "autoclose": false,
   "autocomplete": true,
   "bibliofile": "biblio.bib",
   "cite_by": "apalike",
   "current_citInitial": 1,
   "eqLabelWithNumbers": true,
   "eqNumInitial": 1,
   "hotkeys": {
    "equation": "Ctrl-E",
    "itemize": "Ctrl-I"
   },
   "labels_anchors": false,
   "latex_user_defs": false,
   "report_style_numbering": false,
   "user_envs_cfg": false
  }
 },
 "nbformat": 4,
 "nbformat_minor": 5
}
